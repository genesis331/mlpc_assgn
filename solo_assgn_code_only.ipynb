{
 "cells": [
  {
   "cell_type": "code",
   "execution_count": null,
   "metadata": {
    "collapsed": true
   },
   "outputs": [],
   "source": [
    "import pandas as pd\n",
    "import matplotlib.pyplot as plt\n",
    "import seaborn as sns\n",
    "import numpy as np"
   ]
  },
  {
   "cell_type": "code",
   "execution_count": null,
   "outputs": [],
   "source": [
    "df = pd.read_csv('../data/Diamond_Prices.csv')\n",
    "df.head()"
   ],
   "metadata": {
    "collapsed": false
   }
  },
  {
   "cell_type": "code",
   "execution_count": null,
   "outputs": [],
   "source": [
    "df.info()"
   ],
   "metadata": {
    "collapsed": false
   }
  },
  {
   "cell_type": "code",
   "execution_count": null,
   "outputs": [],
   "source": [
    "df.isnull().sum().to_frame('Null Count')"
   ],
   "metadata": {
    "collapsed": false
   }
  },
  {
   "cell_type": "code",
   "execution_count": null,
   "outputs": [],
   "source": [
    "df.duplicated().to_frame('Has Duplicated')"
   ],
   "metadata": {
    "collapsed": false
   }
  },
  {
   "cell_type": "code",
   "execution_count": null,
   "outputs": [],
   "source": [
    "# Fair, Good, Very Good, Premium, Ideal\n",
    "# Cut: 1, 2, 3, 4, 5\n",
    "\n",
    "# change the cut column to numerical, create new column\n",
    "df['cut_rating'] = df['cut'].map({'Fair':1, 'Good':2, 'Very Good':3, 'Premium':4, 'Ideal':5})"
   ],
   "metadata": {
    "collapsed": false
   }
  },
  {
   "cell_type": "code",
   "execution_count": null,
   "outputs": [],
   "source": [
    "# I1 (worst), SI2, SI1, VS2, VS1, VVS2, VVS1, IF (best)\n",
    "# Clarity: 1, 2, 3, 4, 5, 6, 7, 8\n",
    "\n",
    "# change the clarity column to numerical\n",
    "df['clarity_rating'] = df['clarity'].map({'I1':1, 'SI2':2, 'SI1':3, 'VS2':4, 'VS1':5, 'VVS2':6, 'VVS1':7, 'IF':8})"
   ],
   "metadata": {
    "collapsed": false
   }
  },
  {
   "cell_type": "code",
   "execution_count": null,
   "outputs": [],
   "source": [
    "# J (worst) to D (best)\n",
    "# Color: 1, 2, 3, 4, 5, 6, 7\n",
    "\n",
    "# change the color column to numerical\n",
    "df['color_rating'] = df['color'].map({'J':1, 'I':2, 'H':3, 'G':4, 'F':5, 'E':6, 'D':7})"
   ],
   "metadata": {
    "collapsed": false
   }
  },
  {
   "cell_type": "code",
   "execution_count": null,
   "outputs": [],
   "source": [
    "filtered_df = df[['carat', 'cut_rating', 'clarity_rating', 'color_rating', 'price', 'depth', 'table', 'length', 'width']]"
   ],
   "metadata": {
    "collapsed": false
   }
  },
  {
   "cell_type": "code",
   "execution_count": null,
   "outputs": [],
   "source": [
    "filtered_df.head()"
   ],
   "metadata": {
    "collapsed": false
   }
  },
  {
   "cell_type": "code",
   "execution_count": null,
   "outputs": [],
   "source": [
    "filtered_df.info()"
   ],
   "metadata": {
    "collapsed": false
   }
  },
  {
   "cell_type": "code",
   "execution_count": null,
   "outputs": [],
   "source": [
    "# correlation matrix\n",
    "corr = filtered_df.corr()"
   ],
   "metadata": {
    "collapsed": false
   }
  },
  {
   "cell_type": "code",
   "execution_count": null,
   "outputs": [],
   "source": [
    "corr"
   ],
   "metadata": {
    "collapsed": false
   }
  },
  {
   "cell_type": "code",
   "execution_count": null,
   "outputs": [],
   "source": [
    "# plot the heatmap\n",
    "sns.heatmap(corr,\n",
    "        xticklabels=corr.columns,\n",
    "        yticklabels=corr.columns)"
   ],
   "metadata": {
    "collapsed": false
   }
  },
  {
   "cell_type": "code",
   "execution_count": null,
   "outputs": [],
   "source": [
    "# Generate pair plot\n",
    "sns.pairplot(filtered_df)"
   ],
   "metadata": {
    "collapsed": false
   }
  },
  {
   "cell_type": "code",
   "execution_count": null,
   "outputs": [],
   "source": [
    "from sklearn.model_selection import train_test_split"
   ],
   "metadata": {
    "collapsed": false
   }
  },
  {
   "cell_type": "code",
   "execution_count": null,
   "outputs": [],
   "source": [
    "X = filtered_df[['carat', 'cut_rating', 'clarity_rating', 'color_rating', 'depth', 'table', 'length', 'width']]\n",
    "y = filtered_df['price']"
   ],
   "metadata": {
    "collapsed": false
   }
  },
  {
   "cell_type": "code",
   "execution_count": null,
   "outputs": [],
   "source": [
    "y.describe()"
   ],
   "metadata": {
    "collapsed": false
   }
  },
  {
   "cell_type": "code",
   "execution_count": null,
   "outputs": [],
   "source": [
    "# price_range = filtered_df['price'].max() - filtered_df['price'].min()"
   ],
   "metadata": {
    "collapsed": false
   }
  },
  {
   "cell_type": "code",
   "execution_count": null,
   "outputs": [],
   "source": [
    "# price_scaled = (df['price'] - df['price'].min()) / price_range"
   ],
   "metadata": {
    "collapsed": false
   }
  },
  {
   "cell_type": "code",
   "execution_count": null,
   "outputs": [],
   "source": [
    "# price_scaled = price_scaled * 100"
   ],
   "metadata": {
    "collapsed": false
   }
  },
  {
   "cell_type": "code",
   "execution_count": null,
   "outputs": [],
   "source": [
    "# y = price_scaled"
   ],
   "metadata": {
    "collapsed": false
   }
  },
  {
   "cell_type": "code",
   "execution_count": null,
   "outputs": [],
   "source": [
    "X_train, X_test, y_train, y_test = train_test_split(X, y, test_size=0.2, random_state=31)"
   ],
   "metadata": {
    "collapsed": false
   }
  },
  {
   "cell_type": "code",
   "execution_count": null,
   "outputs": [],
   "source": [
    "plt.scatter(X_train['carat'], y_train, color='blue')\n",
    "plt.scatter(X_test['carat'], y_test, color='red')\n",
    "plt.xlabel(\"Carat\")\n",
    "plt.ylabel(\"Price\")\n",
    "plt.show()"
   ],
   "metadata": {
    "collapsed": false
   }
  },
  {
   "cell_type": "code",
   "execution_count": null,
   "outputs": [],
   "source": [
    "from sklearn.linear_model import LinearRegression\n",
    "\n",
    "lr_model = LinearRegression()\n",
    "\n",
    "lr_baseline = lr_model.fit(X_train, y_train)\n",
    "y_predict = lr_baseline.predict(X_test)\n",
    "\n",
    "coef_df = pd.DataFrame({'Feature': X.columns, 'Coefficient': lr_baseline.coef_})\n",
    "\n",
    "print(coef_df)\n",
    "\n",
    "print ('Coefficients: ', lr_baseline.coef_)\n",
    "print ('Intercept: ', lr_baseline.intercept_)"
   ],
   "metadata": {
    "collapsed": false
   }
  },
  {
   "cell_type": "code",
   "execution_count": null,
   "outputs": [],
   "source": [
    "from sklearn.metrics import mean_absolute_error, mean_squared_error, r2_score\n",
    "\n",
    "mae = mean_absolute_error(y_test, y_predict)\n",
    "mse = mean_squared_error(y_test, y_predict)\n",
    "rmse = np.sqrt(mse)\n",
    "r2 = r2_score(y_test, y_predict)\n",
    "\n",
    "print(\"MAE: %.2f\" % mae)\n",
    "print(\"MSE: %.2f\" % mse)\n",
    "print(\"RMSE: %.2f\" % rmse)\n",
    "print(\"R2-score: %.6f\" % r2)"
   ],
   "metadata": {
    "collapsed": false
   }
  },
  {
   "cell_type": "code",
   "execution_count": null,
   "outputs": [],
   "source": [
    "from sklearn.preprocessing import PolynomialFeatures\n",
    "from sklearn.pipeline import Pipeline"
   ],
   "metadata": {
    "collapsed": false
   }
  },
  {
   "cell_type": "code",
   "execution_count": null,
   "outputs": [],
   "source": [
    "from sklearn.model_selection import KFold\n",
    "\n",
    "kf = KFold(shuffle=True, random_state=72018, n_splits=3)"
   ],
   "metadata": {
    "collapsed": false
   }
  },
  {
   "cell_type": "code",
   "execution_count": null,
   "outputs": [],
   "source": [
    "from sklearn.model_selection import GridSearchCV\n",
    "\n",
    "estimator = Pipeline([(\"polynomial_features\", PolynomialFeatures()),\n",
    "                      (\"linear_regression\", LinearRegression())])\n",
    "\n",
    "params = {\n",
    "    'polynomial_features__degree': [1, 2, 3],\n",
    "}\n",
    "\n",
    "lr_poly = GridSearchCV(estimator, params, cv=kf)"
   ],
   "metadata": {
    "collapsed": false
   }
  },
  {
   "cell_type": "code",
   "execution_count": null,
   "outputs": [],
   "source": [
    "for train_index, test_index in kf.split(X_train):\n",
    "    print(\"Train index:\", train_index[:10], len(train_index))\n",
    "    print(\"Test index:\",test_index[:10], len(test_index))\n",
    "    print('')\n",
    "    Xcv_train, Xcv_test, ycv_train, ycv_test = (X.iloc[train_index, :],\n",
    "                                                    X.iloc[test_index, :],\n",
    "                                                    y[train_index],\n",
    "                                                    y[test_index])"
   ],
   "metadata": {
    "collapsed": false
   }
  },
  {
   "cell_type": "code",
   "execution_count": null,
   "outputs": [],
   "source": [
    "lr_poly.fit(Xcv_train, ycv_train)"
   ],
   "metadata": {
    "collapsed": false
   }
  },
  {
   "cell_type": "code",
   "execution_count": null,
   "outputs": [],
   "source": [
    "pf = PolynomialFeatures(degree=lr_poly.best_params_['polynomial_features__degree'])\n",
    "\n",
    "lr_poly2 = Pipeline([(\"make_higher_degree\", pf),\n",
    "                    (\"linear_regression\", LinearRegression())])\n",
    "\n",
    "lr_poly2 = lr_poly2.fit(Xcv_train, ycv_train)\n",
    "lr_poly2.score(Xcv_train, ycv_train)"
   ],
   "metadata": {
    "collapsed": false
   }
  },
  {
   "cell_type": "code",
   "execution_count": null,
   "outputs": [],
   "source": [
    "lr_poly2.named_steps[\"make_higher_degree\"].get_feature_names_out()"
   ],
   "metadata": {
    "collapsed": false
   }
  },
  {
   "cell_type": "code",
   "execution_count": null,
   "outputs": [],
   "source": [
    "y_poly2_pred = lr_poly2.predict(Xcv_test)"
   ],
   "metadata": {
    "collapsed": false
   }
  },
  {
   "cell_type": "code",
   "execution_count": null,
   "outputs": [],
   "source": [
    "r2_score(ycv_test, y_poly2_pred)"
   ],
   "metadata": {
    "collapsed": false
   }
  },
  {
   "cell_type": "code",
   "execution_count": null,
   "outputs": [],
   "source": [
    "plt.scatter(Xcv_test['carat'], ycv_test, color='blue')\n",
    "plt.scatter(Xcv_test['carat'], y_poly2_pred, color='red')\n",
    "plt.xlabel(\"Carat\")\n",
    "plt.ylabel(\"Price\")\n",
    "plt.show()"
   ],
   "metadata": {
    "collapsed": false
   }
  },
  {
   "cell_type": "code",
   "execution_count": null,
   "outputs": [],
   "source": [
    "mae = mean_absolute_error(ycv_test, y_poly2_pred)\n",
    "mse = mean_squared_error(ycv_test, y_poly2_pred)\n",
    "rmse = np.sqrt(mse)\n",
    "r2 = r2_score(ycv_test, y_poly2_pred)\n",
    "\n",
    "print(\"MAE: %.2f\" % mae)\n",
    "print(\"MSE: %.2f\" % mse)\n",
    "print(\"RMSE: %.2f\" % rmse)\n",
    "print(\"R2-score: %.6f\" % r2)"
   ],
   "metadata": {
    "collapsed": false
   }
  },
  {
   "cell_type": "code",
   "execution_count": null,
   "outputs": [],
   "source": [
    "from sklearn.preprocessing import StandardScaler\n",
    "\n",
    "s = StandardScaler()\n",
    "lr = LinearRegression()\n",
    "\n",
    "estimator = Pipeline([(\"scaler\", s),\n",
    "                      (\"regression\", lr)])"
   ],
   "metadata": {
    "collapsed": false
   }
  },
  {
   "cell_type": "code",
   "execution_count": null,
   "outputs": [],
   "source": [
    "from sklearn.linear_model import Lasso\n",
    "\n",
    "estimator2 = Pipeline([(\"scaler\", StandardScaler()),\n",
    "        (\"polynomial_features\", PolynomialFeatures()),\n",
    "        (\"lasso_regression\", Lasso())])\n",
    "\n",
    "params2 = {\n",
    "    'polynomial_features__degree': [1, 2, 3],\n",
    "    'lasso_regression__alpha': [0.0001,0.001,0.05,0.1,1]\n",
    "}\n",
    "\n",
    "lr_opt = GridSearchCV(estimator2, params2, cv=kf)"
   ],
   "metadata": {
    "collapsed": false
   }
  },
  {
   "cell_type": "code",
   "execution_count": null,
   "outputs": [],
   "source": [
    "lr_poly_opt = lr_opt.fit(Xcv_train, ycv_train)"
   ],
   "metadata": {
    "collapsed": false
   }
  },
  {
   "cell_type": "code",
   "execution_count": null,
   "outputs": [],
   "source": [
    "lr_poly_opt.best_score_, lr_poly_opt.best_params_"
   ],
   "metadata": {
    "collapsed": false
   }
  },
  {
   "cell_type": "code",
   "execution_count": null,
   "outputs": [],
   "source": [
    "lr_poly2_l1_001 = Pipeline([(\"scaler\", StandardScaler()),\n",
    "                            (\"polynomial_features\", PolynomialFeatures(degree=lr_poly_opt.best_params_['polynomial_features__degree'])),\n",
    "                            (\"lasso_regression\", Lasso(alpha=lr_poly_opt.best_params_['lasso_regression__alpha']))])\n",
    "\n",
    "lr_poly2_l1 = lr_poly2_l1_001.fit(Xcv_train, ycv_train)\n",
    "lr_poly2_l1.score(Xcv_train, ycv_train)"
   ],
   "metadata": {
    "collapsed": false
   }
  },
  {
   "cell_type": "code",
   "execution_count": null,
   "outputs": [],
   "source": [
    "y_lr_poly2_l1_pred = lr_poly2_l1.predict(Xcv_test)"
   ],
   "metadata": {
    "collapsed": false
   }
  },
  {
   "cell_type": "code",
   "execution_count": null,
   "outputs": [],
   "source": [
    "plt.scatter(Xcv_train['carat'], ycv_train, color='blue')\n",
    "plt.scatter(Xcv_test['carat'], y_lr_poly2_l1_pred, color='red')\n",
    "plt.xlabel(\"Carat\")\n",
    "plt.ylabel(\"Price\")\n",
    "plt.show()"
   ],
   "metadata": {
    "collapsed": false
   }
  },
  {
   "cell_type": "code",
   "execution_count": null,
   "outputs": [],
   "source": [
    "mae = mean_absolute_error(ycv_test, y_lr_poly2_l1_pred)\n",
    "mse = mean_squared_error(ycv_test, y_lr_poly2_l1_pred)\n",
    "rmse = np.sqrt(mse)\n",
    "r2 = r2_score(ycv_test, y_lr_poly2_l1_pred)\n",
    "\n",
    "print(\"MAE: %.2f\" % mae)\n",
    "print(\"MSE: %.2f\" % mse)\n",
    "print(\"MSE: %.2f\" % rmse)\n",
    "print(\"R2-score: %.6f\" % r2)"
   ],
   "metadata": {
    "collapsed": false
   }
  },
  {
   "cell_type": "code",
   "execution_count": null,
   "outputs": [],
   "source": [
    "Xcv_test"
   ],
   "metadata": {
    "collapsed": false
   }
  },
  {
   "cell_type": "code",
   "execution_count": null,
   "outputs": [],
   "source": [
    "ycv_test"
   ],
   "metadata": {
    "collapsed": false
   }
  },
  {
   "cell_type": "code",
   "execution_count": null,
   "outputs": [],
   "source": [
    "carat = 1.52\n",
    "cut_rating = 5\n",
    "clarity_rating = 5\n",
    "color_rating = 6\n",
    "depth = 4.59\n",
    "table = 54.0\n",
    "length = 7.32\n",
    "width = 7.39\n",
    "\n",
    "test_pred = lr_poly2_l1.predict([[carat, cut_rating, clarity_rating, color_rating, depth, table, length, width]])"
   ],
   "metadata": {
    "collapsed": false
   }
  },
  {
   "cell_type": "code",
   "execution_count": null,
   "outputs": [],
   "source": [
    "test_pred"
   ],
   "metadata": {
    "collapsed": false
   }
  }
 ],
 "metadata": {
  "kernelspec": {
   "display_name": "Python 3",
   "language": "python",
   "name": "python3"
  },
  "language_info": {
   "codemirror_mode": {
    "name": "ipython",
    "version": 2
   },
   "file_extension": ".py",
   "mimetype": "text/x-python",
   "name": "python",
   "nbconvert_exporter": "python",
   "pygments_lexer": "ipython2",
   "version": "2.7.6"
  }
 },
 "nbformat": 4,
 "nbformat_minor": 0
}
